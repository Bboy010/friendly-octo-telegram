# # Task Code 2.1:
# Microbiology
# Look at this dataset here.
# This is the description of the dataset . [open in a new tab, not a file to be downloaded]
# Plot all the growth curves of OD600 vs Time for the different Strains with the following instructions
# For each strain, plot a growth curve of the the knock out (-) an knock in (+) strain overlaid on top of each other
# Using your function from last stage, determine the time to reach the carrying capacity for each strain/mutant
# Generate a scatter plot of the time it takes to reach carrying capacity for the knock out and the knock in strains
# Generate a box plot of the time it takes to reach carrying capacity for the knock out and the knock in strains
# Is there a statistical difference in the time it takes the knock out strains to reach their maximum carrying capacity compared to the knock in strains
# What do you see? Explain your observations as comments in your code

# resolvons ensemble
import panda as pd
import numpy as np
import matplotlib.pyplot as plt
import seaborn as sns
from scipy.stats import ttest_ind
from scipy

# Load the data
data = pd.read_csv('https://raw.githubusercontent.com/jakevdp/PythonDataScienceHandbook/master/notebooks/data/bacteria.csv')
data.head()
