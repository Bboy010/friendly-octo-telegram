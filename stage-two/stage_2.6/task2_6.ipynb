{
  "nbformat": 4,
  "nbformat_minor": 0,
  "metadata": {
    "colab": {
      "provenance": []
    },
    "kernelspec": {
      "name": "python3",
      "display_name": "Python 3"
    },
    "language_info": {
      "name": "python"
    }
  },
  "cells": [
    {
      "cell_type": "code",
      "execution_count": null,
      "metadata": {
        "id": "pd7kAlYsoC6I"
      },
      "outputs": [],
      "source": [
        "# prompt: connecter drive\n",
        "\n",
        "from google.colab import drive\n",
        "drive.mount('/content/drive')\n"
      ]
    },
    {
      "cell_type": "code",
      "source": [
        "import pandas as pd\n",
        "import numpy as np\n",
        "import matplotlib.pyplot as plt"
      ],
      "metadata": {
        "id": "6fMo-tW2oK3P"
      },
      "execution_count": null,
      "outputs": []
    },
    {
      "cell_type": "code",
      "source": [
        "df = pd.read_csv('/content/drive/MyDrive/Colab Notebooks/stage-two/stage_2.6/results.txt', sep='\\t', header=0)"
      ],
      "metadata": {
        "id": "_n6kqHZEo7df"
      },
      "execution_count": null,
      "outputs": []
    },
    {
      "cell_type": "code",
      "source": [
        "print(df.head())"
      ],
      "metadata": {
        "id": "eagKXYaEpM2h"
      },
      "execution_count": null,
      "outputs": []
    },
    {
      "cell_type": "code",
      "source": [
        "df = pd.DataFrame(df)"
      ],
      "metadata": {
        "id": "ZP4t72FypbXl"
      },
      "execution_count": null,
      "outputs": []
    },
    {
      "cell_type": "markdown",
      "source": [
        "Cellule 2 : Calcul du -log10(pvalue) et création du Volcano Plot"
      ],
      "metadata": {
        "id": "kn7_FjYapklh"
      }
    },
    {
      "cell_type": "code",
      "source": [
        "# Recharger le fichier en spécifiant correctement les espaces comme séparateurs\n",
        "df = pd.read_csv('/content/drive/MyDrive/Colab Notebooks/stage-two/stage_2.6/results.txt', delim_whitespace=True)\n",
        "\n",
        "# Vérification des premières lignes après correction\n",
        "df.head()\n"
      ],
      "metadata": {
        "id": "b0iFm3LnpnVM"
      },
      "execution_count": null,
      "outputs": []
    },
    {
      "cell_type": "code",
      "source": [
        "# Calcul de -log10(pvalue) pour la visualisation\n",
        "df[\"negLogP\"] = -np.log10(df[\"pvalue\"])\n",
        "\n",
        "# Création du volcano plot\n",
        "plt.figure(figsize=(8,6))\n",
        "plt.scatter(df[\"log2FoldChange\"], df[\"negLogP\"], color=\"grey\", alpha=0.5)\n",
        "\n",
        "# Ajout des lignes seuil\n",
        "plt.axvline(x=1, color=\"red\", linestyle=\"--\", label=\"Upregulated threshold (Log2FC > 1)\")\n",
        "plt.axvline(x=-1, color=\"blue\", linestyle=\"--\", label=\"Downregulated threshold (Log2FC < -1)\")\n",
        "plt.axhline(y=-np.log10(0.01), color=\"green\", linestyle=\"--\", label=\"Significance threshold (p < 0.01)\")\n",
        "\n",
        "# Titres et labels\n",
        "plt.xlabel(\"Log2 Fold Change\")\n",
        "plt.ylabel(\"-Log10(p-value)\")\n",
        "plt.title(\"Volcano Plot\")\n",
        "plt.legend()\n",
        "plt.show()\n"
      ],
      "metadata": {
        "id": "M4dCcLM8rHf7"
      },
      "execution_count": null,
      "outputs": []
    },
    {
      "cell_type": "code",
      "source": [
        "# Filtrage des gènes upregulés : Log2FC > 1 et pvalue < 0.01\n",
        "upregulated = df[(df[\"log2FoldChange\"] > 1) & (df[\"pvalue\"] < 0.01)]\n",
        "\n",
        "# Filtrage des gènes downregulés : Log2FC < -1 et pvalue < 0.01\n",
        "downregulated = df[(df[\"log2FoldChange\"] < -1) & (df[\"pvalue\"] < 0.01)]\n",
        "\n",
        "# Affichage des résultats\n",
        "upregulated_genes = upregulated[[\"Gene\", \"log2FoldChange\", \"pvalue\"]]\n",
        "# Filtrage des gènes upregulés : Log2FC > 1 et pvalue < 0.01\n",
        "upregulated = df[(df[\"log2FoldChange\"] > 1) & (df[\"pvalue\"] < 0.01)]\n",
        "\n",
        "# Filtrage des gènes downregulés : Log2FC < -1 et pvalue < 0.01\n",
        "downregulated = df[(df[\"log2FoldChange\"] < -1) & (df[\"pvalue\"] < 0.01)]\n",
        "\n",
        "# Affichage des résultats\n",
        "upregulated_genes = upregulated[[\"Gene\", \"log2FoldChange\", \"pvalue\"]]\n",
        "# Filtrage des gènes upregulés : Log2FC > 1 et pvalue < 0.01\n",
        "upregulated = df[(df[\"log2FoldChange\"] > 1) & (df[\"pvalue\"] < 0.01)]\n",
        "\n",
        "# Filtrage des gènes downregulés : Log2FC < -1 et pvalue < 0.01\n",
        "downregulated = df[(df[\"log2FoldChange\"] < -1) & (df[\"pvalue\"] < 0.01)]\n",
        "\n",
        "# Affichage des résultats\n",
        "upregulated_genes = upregulated[[\"Gene\", \"log2FoldChange\", \"pvalue\"]]\n",
        "# Filtrage des gènes upregulés : Log2FC > 1 et pvalue < 0.01\n",
        "upregulated = df[(df[\"log2FoldChange\"] > 1) & (df[\"pvalue\"] < 0.01)]\n",
        "\n",
        "# Filtrage des gènes downregulés : Log2FC < -1 et pvalue < 0.01\n",
        "downregulated = df[(df[\"log2FoldChange\"] < -1) & (df[\"pvalue\"] < 0.01)]\n",
        "\n",
        "# Affichage des résultats\n",
        "upregulated_genes = upregulated[[\"Gene\", \"log2FoldChange\", \"pvalue\"]]\n",
        "downregulated_genes = downregulated[[\"Gene\", \"log2FoldChange\", \"pvalue\"]]\n",
        "\n",
        "print(upregulated_genes, '\\n' + '===='*50 + '\\n',downregulated_genes)"
      ],
      "metadata": {
        "id": "Cuzlz60FrTaY"
      },
      "execution_count": null,
      "outputs": []
    },
    {
      "cell_type": "code",
      "source": [
        "# Filtrage des gènes upregulés : Log2FC > 1 et pvalue < 0.01\n",
        "upregulated = df[(df[\"log2FoldChange\"] > 1) & (df[\"pvalue\"] < 0.01)]\n",
        "\n",
        "# Filtrage des gènes downregulés : Log2FC < -1 et pvalue < 0.01\n",
        "downregulated = df[(df[\"log2FoldChange\"] < -1) & (df[\"pvalue\"] < 0.01)]\n",
        "\n",
        "# Affichage des résultats\n",
        "print(\"Gènes upregulés :\")\n",
        "print(upregulated[[\"Gene\", \"log2FoldChange\", \"pvalue\"]])\n",
        "\n",
        "print(\"\\nGènes downregulés :\")\n",
        "print(downregulated[[\"Gene\", \"log2FoldChange\", \"pvalue\"]])\n"
      ],
      "metadata": {
        "id": "JSuoaBgYragZ"
      },
      "execution_count": null,
      "outputs": []
    },
    {
      "cell_type": "code",
      "source": [
        "# Sélection des top 5 gènes upregulés (tri décroissant par log2FoldChange)\n",
        "top5_up = upregulated.sort_values(by=\"log2FoldChange\", ascending=False).head(5)\n",
        "\n",
        "# Sélection des top 5 gènes downregulés (tri croissant par log2FoldChange)\n",
        "top5_down = downregulated.sort_values(by=\"log2FoldChange\", ascending=True).head(5)\n",
        "\n",
        "# Affichage des résultats\n",
        "print(\"Top 5 gènes upregulés :\")\n",
        "print(top5_up[[\"Gene\", \"log2FoldChange\", \"pvalue\"]])\n",
        "\n",
        "print(\"\\nTop 5 gènes downregulés :\")\n",
        "print(top5_down[[\"Gene\", \"log2FoldChange\", \"pvalue\"]])\n",
        "\n",
        "# Génération des liens GeneCards\n",
        "print(\"\\n🔍 Consulte les fonctions des gènes sur GeneCards :\\n\")\n",
        "for gene in pd.concat([top5_up[\"Gene\"], top5_down[\"Gene\"]]).unique():\n",
        "    print(f\"https://www.genecards.org/cgi-bin/carddisp.pl?gene={gene}\")\n"
      ],
      "metadata": {
        "id": "6s4NQRbbrqw_"
      },
      "execution_count": null,
      "outputs": []
    }
  ]
}